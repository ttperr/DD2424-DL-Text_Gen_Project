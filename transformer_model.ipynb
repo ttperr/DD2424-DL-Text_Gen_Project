{
 "cells": [
  {
   "cell_type": "markdown",
   "metadata": {},
   "source": [
    "# DD2424 - Project 3 - NLP\n",
    "\n",
    "> Group 12: Tristan Perrot Paul Mauduit Adrien Jouanny Arthur Depret\n"
   ]
  },
  {
   "cell_type": "markdown",
   "metadata": {},
   "source": [
    "## Imports"
   ]
  },
  {
   "cell_type": "code",
   "execution_count": 11,
   "metadata": {},
   "outputs": [
    {
     "name": "stdout",
     "output_type": "stream",
     "text": [
      "device: cuda\n",
      "current directory: /home/jovyan\n"
     ]
    },
    {
     "name": "stderr",
     "output_type": "stream",
     "text": [
      "[nltk_data] Downloading package gutenberg to /home/jovyan/nltk_data...\n",
      "[nltk_data]   Package gutenberg is already up-to-date!\n",
      "[nltk_data] Downloading package punkt to /home/jovyan/nltk_data...\n",
      "[nltk_data]   Package punkt is already up-to-date!\n"
     ]
    }
   ],
   "source": [
    "import os\n",
    "import torch\n",
    "import torch.nn as nn\n",
    "import torch.optim as optim\n",
    "import math\n",
    "import torch.nn.functional as F\n",
    "from torch.utils.data import Dataset, DataLoader\n",
    "from collections import Counter\n",
    "import nltk\n",
    "from tqdm.notebook import trange, tqdm\n",
    "from nltk.corpus import gutenberg\n",
    "nltk.download('gutenberg')\n",
    "nltk.download('punkt')\n",
    "\n",
    "device = torch.device(\"cuda\" if torch.cuda.is_available() else \"mps\" if torch.backends.mps.is_available() else \"cpu\")\n",
    "print('device:', device)\n",
    "print('current directory:', os.getcwd())"
   ]
  },
  {
   "cell_type": "markdown",
   "metadata": {},
   "source": [
    "## Data"
   ]
  },
  {
   "cell_type": "code",
   "execution_count": 12,
   "metadata": {},
   "outputs": [
    {
     "name": "stdout",
     "output_type": "stream",
     "text": [
      "CHAPTER I. Down the Rabbit-Hole\n",
      "\n",
      "Alice was beginning to get very tired of sitting by her sister on t\n"
     ]
    }
   ],
   "source": [
    "# Load the data from the gutenberg corpus\n",
    "alice = gutenberg.raw('carroll-alice.txt')\n",
    "# Remove the header\n",
    "header = alice.find(\"CHAPTER I.\")\n",
    "alice = alice[header:]\n",
    "\n",
    "print(alice[:100])"
   ]
  },
  {
   "cell_type": "code",
   "execution_count": null,
   "metadata": {},
   "outputs": [],
   "source": [
    "words = alice.split()\n",
    "word_counts = Counter(words)\n",
    "vocab = list(word_counts.keys())\n",
    "vocab_size = len(vocab)\n",
    "word_to_int = {word: i for i, word in enumerate(vocab)}\n",
    "int_to_word = {i: word for word, i in word_to_int.items()}\n",
    "SEQUENCE_LENGTH = 64\n",
    "samples = [words[i:i+SEQUENCE_LENGTH+1] for i in range(len(words)-SEQUENCE_LENGTH)]"
   ]
  },
  {
   "cell_type": "code",
   "execution_count": 14,
   "metadata": {},
   "outputs": [],
   "source": [
    "class TextDataset(Dataset):\n",
    "    def __init__(self, samples, word_to_int):\n",
    "        self.samples = samples\n",
    "        self.word_to_int = word_to_int\n",
    "\n",
    "    def __len__(self):\n",
    "        return len(self.samples)\n",
    "\n",
    "    def __getitem__(self, idx):\n",
    "        sample = self.samples[idx]\n",
    "        input_seq = torch.LongTensor(\n",
    "            [self.word_to_int[word] for word in sample[:-1]])\n",
    "        target_seq = torch.LongTensor(\n",
    "            [self.word_to_int[word] for word in sample[1:]])\n",
    "        return input_seq, target_seq"
   ]
  },
  {
   "cell_type": "code",
   "execution_count": 15,
   "metadata": {},
   "outputs": [
    {
     "name": "stdout",
     "output_type": "stream",
     "text": [
      "(tensor([ 1,  2,  3,  4,  5,  6,  7,  8,  9, 10, 11, 12, 13, 14, 15, 16, 17,  3,\n",
      "        18, 19, 12, 20, 21,  8, 22, 23, 24, 25, 26, 27, 28, 29,  3, 30, 15, 16,\n",
      "         6, 31, 32, 33, 27, 34, 35, 24, 36, 37, 38, 39, 40, 41,  3, 42, 12, 43,\n",
      "        44, 45,  5, 46, 35, 24, 47, 48, 26,  6]), tensor([ 2,  3,  4,  5,  6,  7,  8,  9, 10, 11, 12, 13, 14, 15, 16, 17,  3, 18,\n",
      "        19, 12, 20, 21,  8, 22, 23, 24, 25, 26, 27, 28, 29,  3, 30, 15, 16,  6,\n",
      "        31, 32, 33, 27, 34, 35, 24, 36, 37, 38, 39, 40, 41,  3, 42, 12, 43, 44,\n",
      "        45,  5, 46, 35, 24, 47, 48, 26,  6, 49]))\n"
     ]
    }
   ],
   "source": [
    "BATCH_SIZE = 32\n",
    "dataset = TextDataset(samples, word_to_int)\n",
    "dataloader = DataLoader(\n",
    "    dataset,\n",
    "    batch_size=BATCH_SIZE,\n",
    "    shuffle=True,\n",
    ")\n",
    "print(dataset[1])"
   ]
  },
  {
   "cell_type": "code",
   "execution_count": 16,
   "metadata": {},
   "outputs": [],
   "source": [
    "def generate_square_subsequent_mask(sz):\n",
    "    \"\"\"\n",
    "    Generate a square mask for the sequence. The masked positions are filled with float('-inf').\n",
    "    Unmasked positions are filled with float(0.0).\n",
    "    \"\"\"\n",
    "    mask = (torch.triu(torch.ones(sz, sz)) == 1).transpose(0, 1)\n",
    "    mask = mask.float().masked_fill(mask == 0, float(\n",
    "        '-inf')).masked_fill(mask == 1, float(0.0))\n",
    "    return mask"
   ]
  },
  {
   "cell_type": "code",
   "execution_count": 17,
   "metadata": {},
   "outputs": [],
   "source": [
    "class PositionalEncoding(nn.Module):\n",
    "    def __init__(self, max_len, d_model, dropout=0.1):\n",
    "        \"\"\"\n",
    "        :param max_len: Input length sequence.\n",
    "        :param d_model: Embedding dimension.\n",
    "        :param dropout: Dropout value (default=0.1)\n",
    "        \"\"\"\n",
    "        super(PositionalEncoding, self).__init__()\n",
    "        self.dropout = nn.Dropout(p=dropout)\n",
    "        pe = torch.zeros(max_len, d_model)\n",
    "        position = torch.arange(0, max_len, dtype=torch.float).unsqueeze(1)\n",
    "        div_term = torch.exp(torch.arange(\n",
    "            0, d_model, 2).float() * (-math.log(10000.0) / d_model))\n",
    "        pe[:, 0::2] = torch.sin(position * div_term)\n",
    "        pe[:, 1::2] = torch.cos(position * div_term)\n",
    "        pe = pe.unsqueeze(0)\n",
    "        self.register_buffer('pe', pe)\n",
    "\n",
    "    def forward(self, x):\n",
    "        \"\"\"\n",
    "        Inputs of forward function\n",
    "        :param x: the sequence fed to the positional encoder model (required).\n",
    "        Shape:\n",
    "            x: [sequence length, batch size, embed dim]\n",
    "            output: [sequence length, batch size, embed dim]\n",
    "        \"\"\"\n",
    "        x = x + self.pe[:, :x.size(1)]\n",
    "        return self.dropout(x)"
   ]
  },
  {
   "cell_type": "code",
   "execution_count": 18,
   "metadata": {},
   "outputs": [],
   "source": [
    "class TextGen(nn.Module):\n",
    "    def __init__(self, vocab_size, embed_dim, num_layers, num_heads):\n",
    "        super(TextGen, self).__init__()\n",
    "        self.pos_encoder = PositionalEncoding(\n",
    "            max_len=SEQUENCE_LENGTH, d_model=embed_dim)\n",
    "        self.emb = nn.Embedding(vocab_size, embed_dim)\n",
    "        self.decoder_layer = nn.TransformerDecoderLayer(\n",
    "            d_model=embed_dim,\n",
    "            nhead=num_heads,\n",
    "            batch_first=True\n",
    "        )\n",
    "        self.decoder = nn.TransformerDecoder(\n",
    "            decoder_layer=self.decoder_layer,\n",
    "            num_layers=num_layers,\n",
    "        )\n",
    "        self.linear = nn.Linear(embed_dim, vocab_size)\n",
    "        self.dropout = nn.Dropout(0.2)\n",
    "\n",
    "    # Positional encoding is required. Else the model does not learn.\n",
    "    def forward(self, x):\n",
    "        emb = self.emb(x)\n",
    "\n",
    "        # Generate input sequence mask with shape (SEQUENCE_LENGTH, SEQUENCE_LENGTH)\n",
    "        input_mask = generate_square_subsequent_mask(x.size(1)).to(x.device)\n",
    "\n",
    "        x = self.pos_encoder(emb)\n",
    "        x = self.decoder(x, memory=x, tgt_mask=input_mask,\n",
    "                         memory_mask=input_mask)\n",
    "        x = self.dropout(x)\n",
    "        out = self.linear(x)\n",
    "        return out"
   ]
  },
  {
   "cell_type": "code",
   "execution_count": 19,
   "metadata": {},
   "outputs": [
    {
     "name": "stdout",
     "output_type": "stream",
     "text": [
      "TextGen(\n",
      "  (pos_encoder): PositionalEncoding(\n",
      "    (dropout): Dropout(p=0.1, inplace=False)\n",
      "  )\n",
      "  (emb): Embedding(5289, 100)\n",
      "  (decoder_layer): TransformerDecoderLayer(\n",
      "    (self_attn): MultiheadAttention(\n",
      "      (out_proj): NonDynamicallyQuantizableLinear(in_features=100, out_features=100, bias=True)\n",
      "    )\n",
      "    (multihead_attn): MultiheadAttention(\n",
      "      (out_proj): NonDynamicallyQuantizableLinear(in_features=100, out_features=100, bias=True)\n",
      "    )\n",
      "    (linear1): Linear(in_features=100, out_features=2048, bias=True)\n",
      "    (dropout): Dropout(p=0.1, inplace=False)\n",
      "    (linear2): Linear(in_features=2048, out_features=100, bias=True)\n",
      "    (norm1): LayerNorm((100,), eps=1e-05, elementwise_affine=True)\n",
      "    (norm2): LayerNorm((100,), eps=1e-05, elementwise_affine=True)\n",
      "    (norm3): LayerNorm((100,), eps=1e-05, elementwise_affine=True)\n",
      "    (dropout1): Dropout(p=0.1, inplace=False)\n",
      "    (dropout2): Dropout(p=0.1, inplace=False)\n",
      "    (dropout3): Dropout(p=0.1, inplace=False)\n",
      "  )\n",
      "  (decoder): TransformerDecoder(\n",
      "    (layers): ModuleList(\n",
      "      (0-1): 2 x TransformerDecoderLayer(\n",
      "        (self_attn): MultiheadAttention(\n",
      "          (out_proj): NonDynamicallyQuantizableLinear(in_features=100, out_features=100, bias=True)\n",
      "        )\n",
      "        (multihead_attn): MultiheadAttention(\n",
      "          (out_proj): NonDynamicallyQuantizableLinear(in_features=100, out_features=100, bias=True)\n",
      "        )\n",
      "        (linear1): Linear(in_features=100, out_features=2048, bias=True)\n",
      "        (dropout): Dropout(p=0.1, inplace=False)\n",
      "        (linear2): Linear(in_features=2048, out_features=100, bias=True)\n",
      "        (norm1): LayerNorm((100,), eps=1e-05, elementwise_affine=True)\n",
      "        (norm2): LayerNorm((100,), eps=1e-05, elementwise_affine=True)\n",
      "        (norm3): LayerNorm((100,), eps=1e-05, elementwise_affine=True)\n",
      "        (dropout1): Dropout(p=0.1, inplace=False)\n",
      "        (dropout2): Dropout(p=0.1, inplace=False)\n",
      "        (dropout3): Dropout(p=0.1, inplace=False)\n",
      "      )\n",
      "    )\n",
      "  )\n",
      "  (linear): Linear(in_features=100, out_features=5289, bias=True)\n",
      "  (dropout): Dropout(p=0.2, inplace=False)\n",
      ")\n",
      "2,542,533 total parameters.\n",
      "2,542,533 training parameters.\n",
      "\n"
     ]
    }
   ],
   "source": [
    "epochs = 100\n",
    "learning_rate = 0.001\n",
    "device = torch.device('cuda' if torch.cuda.is_available() else 'cpu')\n",
    "model = TextGen(\n",
    "    vocab_size=vocab_size,\n",
    "    embed_dim=100,\n",
    "    num_layers=2,\n",
    "    num_heads=2,\n",
    ").to(device)\n",
    "criterion = nn.CrossEntropyLoss()\n",
    "optimizer = optim.Adam(model.parameters(), lr=learning_rate)\n",
    "print(model)\n",
    "# Total parameters and trainable parameters.\n",
    "total_params = sum(p.numel() for p in model.parameters())\n",
    "print(f\"{total_params:,} total parameters.\")\n",
    "total_trainable_params = sum(\n",
    "    p.numel() for p in model.parameters() if p.requires_grad)\n",
    "print(f\"{total_trainable_params:,} training parameters.\\n\")"
   ]
  },
  {
   "cell_type": "code",
   "execution_count": 20,
   "metadata": {},
   "outputs": [
    {
     "data": {
      "application/vnd.jupyter.widget-view+json": {
       "model_id": "2e61a0245520448d8545aa267d5a74b2",
       "version_major": 2,
       "version_minor": 0
      },
      "text/plain": [
       "  0%|          | 0/100 [00:00<?, ?it/s]"
      ]
     },
     "metadata": {},
     "output_type": "display_data"
    },
    {
     "name": "stdout",
     "output_type": "stream",
     "text": [
      "Epoch 0 loss: 4.149\n",
      "Epoch 1 loss: 1.757\n",
      "Epoch 2 loss: 1.063\n",
      "Epoch 3 loss: 0.799\n",
      "Epoch 4 loss: 0.661\n",
      "Epoch 5 loss: 0.572\n",
      "Epoch 6 loss: 0.510\n",
      "Epoch 7 loss: 0.463\n",
      "Epoch 8 loss: 0.427\n",
      "Epoch 9 loss: 0.395\n",
      "Epoch 10 loss: 0.362\n",
      "Epoch 11 loss: 0.342\n",
      "Epoch 12 loss: 0.325\n",
      "Epoch 13 loss: 0.309\n",
      "Epoch 14 loss: 0.297\n",
      "Epoch 15 loss: 0.285\n",
      "Epoch 16 loss: 0.274\n",
      "Epoch 17 loss: 0.264\n",
      "Epoch 18 loss: 0.257\n",
      "Epoch 19 loss: 0.249\n",
      "Epoch 20 loss: 0.242\n",
      "Epoch 21 loss: 0.236\n",
      "Epoch 22 loss: 0.231\n",
      "Epoch 23 loss: 0.226\n",
      "Epoch 24 loss: 0.220\n",
      "Epoch 25 loss: 0.217\n",
      "Epoch 26 loss: 0.211\n",
      "Epoch 27 loss: 0.208\n",
      "Epoch 28 loss: 0.203\n",
      "Epoch 29 loss: 0.200\n",
      "Epoch 30 loss: 0.197\n",
      "Epoch 31 loss: 0.194\n",
      "Epoch 32 loss: 0.191\n",
      "Epoch 33 loss: 0.189\n",
      "Epoch 34 loss: 0.186\n",
      "Epoch 35 loss: 0.184\n",
      "Epoch 36 loss: 0.181\n",
      "Epoch 37 loss: 0.179\n",
      "Epoch 38 loss: 0.177\n",
      "Epoch 39 loss: 0.176\n",
      "Epoch 40 loss: 0.173\n",
      "Epoch 41 loss: 0.172\n",
      "Epoch 42 loss: 0.170\n",
      "Epoch 43 loss: 0.169\n",
      "Epoch 44 loss: 0.167\n",
      "Epoch 45 loss: 0.166\n",
      "Epoch 46 loss: 0.164\n",
      "Epoch 47 loss: 0.161\n",
      "Epoch 48 loss: 0.161\n",
      "Epoch 49 loss: 0.160\n",
      "Epoch 50 loss: 0.159\n",
      "Epoch 51 loss: 0.157\n",
      "Epoch 52 loss: 0.156\n",
      "Epoch 53 loss: 0.155\n",
      "Epoch 54 loss: 0.154\n",
      "Epoch 55 loss: 0.153\n",
      "Epoch 56 loss: 0.152\n",
      "Epoch 57 loss: 0.151\n",
      "Epoch 58 loss: 0.149\n",
      "Epoch 59 loss: 0.150\n",
      "Epoch 60 loss: 0.148\n",
      "Epoch 61 loss: 0.148\n",
      "Epoch 62 loss: 0.147\n",
      "Epoch 63 loss: 0.146\n",
      "Epoch 64 loss: 0.144\n",
      "Epoch 65 loss: 0.144\n",
      "Epoch 66 loss: 0.144\n",
      "Epoch 67 loss: 0.143\n",
      "Epoch 68 loss: 0.141\n",
      "Epoch 69 loss: 0.142\n",
      "Epoch 70 loss: 0.141\n",
      "Epoch 71 loss: 0.140\n",
      "Epoch 72 loss: 0.140\n",
      "Epoch 73 loss: 0.139\n",
      "Epoch 74 loss: 0.138\n",
      "Epoch 75 loss: 0.138\n",
      "Epoch 76 loss: 0.137\n",
      "Epoch 77 loss: 0.136\n",
      "Epoch 78 loss: 0.136\n",
      "Epoch 79 loss: 0.135\n",
      "Epoch 80 loss: 0.135\n",
      "Epoch 81 loss: 0.134\n",
      "Epoch 82 loss: 0.135\n",
      "Epoch 83 loss: 0.133\n",
      "Epoch 84 loss: 0.133\n",
      "Epoch 85 loss: 0.133\n",
      "Epoch 86 loss: 0.133\n",
      "Epoch 87 loss: 0.132\n",
      "Epoch 88 loss: 0.131\n",
      "Epoch 89 loss: 0.131\n",
      "Epoch 90 loss: 0.130\n",
      "Epoch 91 loss: 0.130\n",
      "Epoch 92 loss: 0.130\n",
      "Epoch 93 loss: 0.129\n",
      "Epoch 94 loss: 0.128\n",
      "Epoch 95 loss: 0.128\n",
      "Epoch 96 loss: 0.128\n",
      "Epoch 97 loss: 0.127\n",
      "Epoch 98 loss: 0.127\n",
      "Epoch 99 loss: 0.126\n"
     ]
    }
   ],
   "source": [
    "# Training\n",
    "def train(model, epochs, dataloader, criterion):\n",
    "    model.train()\n",
    "    for epoch in trange(epochs):\n",
    "        running_loss = 0\n",
    "        for input_seq, target_seq in dataloader:\n",
    "            input_seq, target_seq = input_seq.to(device), target_seq.to(device)\n",
    "            outputs = model(input_seq)\n",
    "            target_seq = target_seq.contiguous().view(-1)\n",
    "            outputs = outputs.view(-1, vocab_size)\n",
    "\n",
    "            loss = criterion(outputs, target_seq.view(-1))\n",
    "\n",
    "            optimizer.zero_grad()\n",
    "            loss.backward()\n",
    "            optimizer.step()\n",
    "            running_loss += loss.detach().cpu().numpy()\n",
    "        epoch_loss = running_loss / len(dataloader)\n",
    "        print(f\"Epoch {epoch} loss: {epoch_loss:.3f}\")\n",
    "\n",
    "\n",
    "train(model, epochs, dataloader, criterion)"
   ]
  },
  {
   "cell_type": "code",
   "execution_count": 24,
   "metadata": {},
   "outputs": [
    {
     "name": "stdout",
     "output_type": "stream",
     "text": [
      "Model saved\n"
     ]
    }
   ],
   "source": [
    "# Save the model\n",
    "torch.save(model.state_dict(), 'transformer_model.pth')\n",
    "print('Model saved')"
   ]
  },
  {
   "cell_type": "code",
   "execution_count": 25,
   "metadata": {},
   "outputs": [
    {
     "name": "stdout",
     "output_type": "stream",
     "text": [
      "Model loaded\n"
     ]
    }
   ],
   "source": [
    "# Load the model\n",
    "model = TextGen(\n",
    "    vocab_size=vocab_size,\n",
    "    embed_dim=100,\n",
    "    num_layers=2,\n",
    "    num_heads=2,\n",
    ").to(device)\n",
    "\n",
    "model.load_state_dict(torch.load('transformer_model.pth'))\n",
    "model.eval()\n",
    "print('Model loaded')"
   ]
  },
  {
   "cell_type": "code",
   "execution_count": 21,
   "metadata": {},
   "outputs": [],
   "source": [
    "def return_int_vector(text):\n",
    "    words = text.split()\n",
    "    input_seq = torch.LongTensor(\n",
    "        [word_to_int[word] for word in words[-SEQUENCE_LENGTH:]]).unsqueeze(0)\n",
    "    return input_seq\n",
    "\n",
    "\n",
    "def sample_next(predictions):\n",
    "    \"\"\"\n",
    "    Greedy sampling.\n",
    "    \"\"\"\n",
    "    # Greedy approach.\n",
    "    probabilities = F.softmax(predictions[:, -1, :], dim=-1).cpu()\n",
    "    next_token = torch.argmax(probabilities)\n",
    "    return int(next_token.cpu())\n",
    "\n",
    "\n",
    "def text_generator(sentence, generate_length):\n",
    "    model.eval()\n",
    "    sample = sentence\n",
    "    for i in range(generate_length):\n",
    "        int_vector = return_int_vector(sample)\n",
    "        if len(int_vector) >= SEQUENCE_LENGTH - 1:\n",
    "            break\n",
    "        input_tensor = int_vector.to(device)\n",
    "        with torch.no_grad():\n",
    "            predictions = model(input_tensor)\n",
    "        next_token = sample_next(predictions)\n",
    "        sample += ' ' + int_to_word[next_token]\n",
    "    print(sample)\n",
    "    print('\\n')"
   ]
  },
  {
   "cell_type": "code",
   "execution_count": 22,
   "metadata": {},
   "outputs": [
    {
     "name": "stdout",
     "output_type": "stream",
     "text": [
      "PROMPT: Alice was a\n",
      "Alice was a good deal worse off than before, as the March Hare had just upset the milk-jug into his plate. Alice did not wish to offend the Dormouse again, so she began very cautiously: 'But I don't understand. Where did they draw the treacle from?' 'You can draw water out of a water-well,' said the Hatter; 'so I should think you could draw treacle out of a treacle-well--eh, stupid?' 'But they were IN the well,' Alice said to the Dormouse, not choosing to notice this last remark. 'Of course they were', said the Dormouse; '--well in.' This answer so confused poor Alice,\n",
      "\n",
      "\n"
     ]
    }
   ],
   "source": [
    "sentences = [\n",
    "    \"Alice was a\"\n",
    "]\n",
    "generate_length = 100\n",
    "for sentence in sentences:\n",
    "    print(f\"PROMPT: {sentence}\")\n",
    "    text_generator(sentence, generate_length)"
   ]
  }
 ],
 "metadata": {
  "kernelspec": {
   "display_name": "Python 3 (ipykernel)",
   "language": "python",
   "name": "python3"
  },
  "language_info": {
   "codemirror_mode": {
    "name": "ipython",
    "version": 3
   },
   "file_extension": ".py",
   "mimetype": "text/x-python",
   "name": "python",
   "nbconvert_exporter": "python",
   "pygments_lexer": "ipython3",
   "version": "3.10.13"
  }
 },
 "nbformat": 4,
 "nbformat_minor": 2
}
