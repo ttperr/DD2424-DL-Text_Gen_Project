{
 "cells": [
  {
   "cell_type": "code",
   "execution_count": 1,
   "metadata": {},
   "outputs": [
    {
     "name": "stderr",
     "output_type": "stream",
     "text": [
      "[nltk_data] Downloading package gutenberg to\n",
      "[nltk_data]     /home/infres/pmauduit-21/nltk_data...\n",
      "[nltk_data]   Package gutenberg is already up-to-date!\n",
      "[nltk_data] Downloading package punkt to\n",
      "[nltk_data]     /home/infres/pmauduit-21/nltk_data...\n",
      "[nltk_data]   Package punkt is already up-to-date!\n"
     ]
    }
   ],
   "source": [
    "from transformers import GPT2LMHeadModel, GPT2Tokenizer\n",
    "from nltk.translate.bleu_score import sentence_bleu, SmoothingFunction\n",
    "import numpy as np\n",
    "import torch\n",
    "import torch.nn as nn\n",
    "import torch.optim as optim\n",
    "import torch.utils.data as data\n",
    "import nltk \n",
    "from nltk.corpus import gutenberg\n",
    "nltk.download('gutenberg')\n",
    "nltk.download('punkt')\n",
    "import os\n",
    "import re\n",
    "from spellchecker import SpellChecker"
   ]
  },
  {
   "cell_type": "code",
   "execution_count": 2,
   "metadata": {},
   "outputs": [
    {
     "name": "stdout",
     "output_type": "stream",
     "text": [
      "device: cuda:2\n",
      "current directory: /home/infres/pmauduit-21/repository/DD2424-DL-Text_Gen_Project\n"
     ]
    }
   ],
   "source": [
    "device = torch.device('cuda:2'if torch.cuda.is_available() else \"cpu\") # Use GPU if available\n",
    "print('device:', device)\n",
    "print('current directory:', os.getcwd())"
   ]
  },
  {
   "cell_type": "markdown",
   "metadata": {},
   "source": [
    "### Import Data"
   ]
  },
  {
   "cell_type": "code",
   "execution_count": 3,
   "metadata": {},
   "outputs": [
    {
     "name": "stdout",
     "output_type": "stream",
     "text": [
      "vocab size: 69\n"
     ]
    }
   ],
   "source": [
    "alice = gutenberg.raw('carroll-alice.txt')\n",
    "header = alice.find(\"CHAPTER I.\")\n",
    "alice = alice[header:]\n",
    "# raw_text = alice.lower()\n",
    "raw_text = alice\n",
    "chars = sorted(list(set(raw_text)))\n",
    "char_to_int = {c: i for i, c in enumerate(chars)}\n",
    "int_to_char = {i: c for i, c in enumerate(chars)}\n",
    "n_vocab = len(chars)\n",
    "train_text = raw_text[:-22067]\n",
    "val_text = raw_text[-22067:-11681]\n",
    "test_text = raw_text[-11681:]\n",
    "\n",
    "print('vocab size:', n_vocab)"
   ]
  },
  {
   "cell_type": "markdown",
   "metadata": {},
   "source": [
    "### Generating text"
   ]
  },
  {
   "cell_type": "code",
   "execution_count": 4,
   "metadata": {},
   "outputs": [],
   "source": [
    "class CharModel(nn.Module):\n",
    "    def __init__(self, n_vocab, embedding_dim=128, hidden_size=256, num_layers=2, dropout=0, norm=False, type = 'lstm'):\n",
    "        super().__init__()\n",
    "        if embedding_dim > 1:\n",
    "            self.embedding = nn.Embedding(num_embeddings=n_vocab, embedding_dim=embedding_dim)   \n",
    "        if type == 'lstm':\n",
    "            self.lstm = nn.LSTM(input_size=embedding_dim, hidden_size=hidden_size, num_layers=num_layers, batch_first=True, dropout=dropout)\n",
    "        elif type == 'gru':\n",
    "            self.lstm = nn.GRU(input_size=embedding_dim, hidden_size=hidden_size, num_layers=num_layers, batch_first=True, dropout=dropout)\n",
    "        elif type == 'rnn':\n",
    "            self.lstm = nn.RNN(input_size=embedding_dim, hidden_size=hidden_size, num_layers=num_layers, batch_first=True, dropout=dropout)\n",
    "        self.dropout = nn.Dropout(dropout)\n",
    "        if norm:\n",
    "            self.norm = nn.LayerNorm(hidden_size)\n",
    "        self.linear = nn.Linear(hidden_size, n_vocab)\n",
    "\n",
    "    def forward(self, x):\n",
    "        # Convert input to Long type\n",
    "        if hasattr(self, 'embedding'):\n",
    "            x = x.long().squeeze(-1)\n",
    "            x = self.embedding(x)\n",
    "        else:\n",
    "            x = x/float(n_vocab)\n",
    "            if x.dim() == 2:\n",
    "                x.unsqueeze_(-1) # Problem ???\n",
    "        x, _ = self.lstm(x)\n",
    "        # Take only the last output\n",
    "        if x.dim() == 2:\n",
    "            x = x.unsqueeze(0) # Problem with batch size = 1 during inference\n",
    "        x = x[:, -1, :]\n",
    "        # Normalize\n",
    "        if hasattr(self, 'norm'):\n",
    "            x = self.norm(x)\n",
    "        x = self.linear(self.dropout(x))\n",
    "        return x\n",
    "    "
   ]
  },
  {
   "cell_type": "code",
   "execution_count": 5,
   "metadata": {},
   "outputs": [],
   "source": [
    "# model = CharModel(n_vocab, embedding_dim=100, hidden_size=256, num_layers=2, dropout=0.3, norm=True, type='lstm').to(device)\n",
    "# seq_length = 100\n",
    "# best_model = torch.load(\"lstm_norm_True_raw.pt\")"
   ]
  },
  {
   "cell_type": "code",
   "execution_count": 6,
   "metadata": {},
   "outputs": [],
   "source": [
    "def apply_temperature_scaling(logits, temperature):\n",
    "    logits = logits / temperature\n",
    "    probs = torch.softmax(logits, dim=-1)\n",
    "    return probs\n",
    "\n",
    "def nucleus_sampling(probs, p, device):\n",
    "    sorted_probs, sorted_indices = torch.sort(probs, descending=True)\n",
    "    cumulative_probs = torch.cumsum(sorted_probs, dim=-1)    \n",
    "    cutoff_index = torch.searchsorted(cumulative_probs, torch.tensor(p, device=device)).item() + 1\n",
    "    top_probs = sorted_probs[:cutoff_index]\n",
    "    top_indices = sorted_indices[:cutoff_index]    \n",
    "    top_probs = top_probs / torch.sum(top_probs)    \n",
    "    sampled_index = torch.multinomial(top_probs, 1).item()    \n",
    "    return top_indices[sampled_index].item()\n",
    "\n",
    "def generate_from_text(temperature=None, p = None, prompt=None, doPrint = False):\n",
    "    if prompt is None:\n",
    "        start = np.random.randint(0, len(raw_text)-seq_length)\n",
    "        text_prompt = raw_text[start:start+seq_length]\n",
    "        pattern = [char_to_int[c] for c in text_prompt]\n",
    "        if doPrint:\n",
    "            print('Prompt: \"%s\"' % text_prompt)\n",
    "            print('-'*100)\n",
    "    else:\n",
    "        pattern = [char_to_int[c] for c in prompt]\n",
    "        if doPrint:\n",
    "            print('Prompt: \"%s\"' % prompt)\n",
    "            print('-'*100)\n",
    "    model.eval()\n",
    "    generated_text = \"\"\n",
    "    if prompt is not None:\n",
    "        if doPrint:\n",
    "            print(prompt, end=\"\")\n",
    "        generated_text += prompt\n",
    "    with torch.no_grad():\n",
    "        for i in range(1000):\n",
    "            x = np.reshape(pattern, (1, len(pattern)))\n",
    "            # x = torch.tensor(x, dtype=torch.float32)\n",
    "            x = torch.tensor(x, dtype=torch.long)\n",
    "            logits = model(x.to(device))\n",
    "            if temperature is not None:\n",
    "                scaled_probs = apply_temperature_scaling(logits, temperature)\n",
    "                if p is not None:                \n",
    "                    scaled_probs = scaled_probs.squeeze()\n",
    "                    index = nucleus_sampling(scaled_probs, p, device)\n",
    "                else:\n",
    "                    index = torch.multinomial(scaled_probs, 1).item()\n",
    "            else:\n",
    "                index = int(logits.argmax())\n",
    "            result = int_to_char[index]\n",
    "            generated_text += result\n",
    "            if doPrint:\n",
    "                print(result, end=\"\")\n",
    "            pattern.append(index)\n",
    "            if len(pattern) > seq_length:\n",
    "                pattern = pattern[1:]\n",
    "    if doPrint:\n",
    "        print()\n",
    "    print(\"Done.\")    \n",
    "    return generated_text"
   ]
  },
  {
   "cell_type": "markdown",
   "metadata": {},
   "source": [
    "## Evaluation metrics"
   ]
  },
  {
   "cell_type": "markdown",
   "metadata": {},
   "source": [
    "#### TTR score (Type Token Ratio: measure of vocabulary variation)\n",
    "\n",
    "The higher the TTR score, the more diverse the vocabulary used in the text.\n",
    "\n",
    "Temperature sampling gives higher TTR scores than nucleus sampling, but text is less coherent."
   ]
  },
  {
   "cell_type": "code",
   "execution_count": 7,
   "metadata": {},
   "outputs": [],
   "source": [
    "def calculate_ttr(text):\n",
    "    words = text.split()\n",
    "    unique_words = set(words)\n",
    "    ttr = len(unique_words) / len(words)\n",
    "    return ttr"
   ]
  },
  {
   "cell_type": "markdown",
   "metadata": {},
   "source": [
    "#### Perplexity (how well the model predicts a word sequence)\n",
    "\n",
    "The lower the perplexity, the better the model predicts the next word.\n",
    "\n",
    "Greedy sampling gives the lowest perplexity, but text is also the least diverse."
   ]
  },
  {
   "cell_type": "code",
   "execution_count": 8,
   "metadata": {},
   "outputs": [],
   "source": [
    "def calculate_perplexity(text, model, tokenizer, device):\n",
    "    encodings = tokenizer(text, return_tensors='pt')\n",
    "    max_length = model.config.n_positions\n",
    "    stride = 512\n",
    "\n",
    "    lls = []\n",
    "    for i in range(0, encodings.input_ids.size(1), stride):\n",
    "        begin_loc = max(i + stride - max_length, 0)\n",
    "        end_loc = min(i + stride, encodings.input_ids.size(1))\n",
    "        trg_len = end_loc - i\n",
    "        input_ids = encodings.input_ids[:, begin_loc:end_loc].to(device)\n",
    "        target_ids = input_ids.clone().to(device)\n",
    "        target_ids[:, :-trg_len] = -100\n",
    "\n",
    "        with torch.no_grad():\n",
    "            outputs = model(input_ids, labels=target_ids)\n",
    "            log_likelihood = outputs.loss * trg_len\n",
    "\n",
    "        lls.append(log_likelihood)\n",
    "\n",
    "    ppl = torch.exp(torch.stack(lls).sum() / end_loc)\n",
    "    return ppl.item()\n",
    "\n",
    "tokenizer = GPT2Tokenizer.from_pretrained(\"gpt2\")\n",
    "gpt2_model = GPT2LMHeadModel.from_pretrained(\"gpt2\").to(device)"
   ]
  },
  {
   "cell_type": "markdown",
   "metadata": {},
   "source": [
    "#### Spell Check\n",
    "\n",
    "We clean the text by removing special characters. "
   ]
  },
  {
   "cell_type": "code",
   "execution_count": 9,
   "metadata": {},
   "outputs": [],
   "source": [
    "def calculate_correctly_spelled_percentage(text):\n",
    "    # Initialize the spell checker\n",
    "    spell = SpellChecker()\n",
    "\n",
    "    # Remove punctuation and split the text into words\n",
    "    words = re.findall(r'\\b\\w+\\b', text)\n",
    "\n",
    "    # Check each word for correctness\n",
    "    misspelled = spell.unknown(words)\n",
    "\n",
    "    # Calculate the number of correctly spelled words\n",
    "    correctly_spelled_count = len(words) - len(misspelled)\n",
    "\n",
    "    # Calculate the percentage of correctly spelled words\n",
    "    if len(words) == 0:\n",
    "        return 0.0  # Avoid division by zero if there are no words\n",
    "    correctly_spelled_percentage = (correctly_spelled_count / len(words)) * 100\n",
    "\n",
    "    return correctly_spelled_percentage\n",
    "\n"
   ]
  },
  {
   "cell_type": "markdown",
   "metadata": {},
   "source": [
    "#### BLEU score"
   ]
  },
  {
   "cell_type": "code",
   "execution_count": 10,
   "metadata": {},
   "outputs": [],
   "source": [
    "def calculate_bleu_score(reference_text, generated_text):\n",
    "    # Tokenize the reference and generated text\n",
    "    reference_tokens = nltk.word_tokenize(reference_text)\n",
    "    generated_tokens = nltk.word_tokenize(generated_text)\n",
    "\n",
    "    # Reference text should be a list of lists of tokens\n",
    "    reference_list = [reference_tokens]\n",
    "\n",
    "    # Use SmoothingFunction to handle very short texts\n",
    "    smoothing_function = SmoothingFunction().method4\n",
    "\n",
    "    # Compute BLEU score\n",
    "    bleu_score = sentence_bleu(reference_list, generated_tokens, smoothing_function=smoothing_function)\n",
    "\n",
    "    return bleu_score"
   ]
  },
  {
   "cell_type": "markdown",
   "metadata": {},
   "source": [
    "## Comparing sampling methods"
   ]
  },
  {
   "cell_type": "code",
   "execution_count": 27,
   "metadata": {},
   "outputs": [
    {
     "name": "stdout",
     "output_type": "stream",
     "text": [
      "Done.\n",
      "Done.\n",
      "Done.\n"
     ]
    }
   ],
   "source": [
    "model = CharModel(n_vocab, embedding_dim=100, hidden_size=512, num_layers=2, dropout=0.3, norm=True, type='lstm').to(device)\n",
    "seq_length = 200\n",
    "best_model = torch.load(\"LSTM_biggest_model/lstm_norm_True_raw_huge.pt\")\n",
    "\n",
    "n_vocab = len(char_to_int)\n",
    "int_to_char = dict((i, c) for c, i in char_to_int.items())\n",
    "model.load_state_dict(best_model)\n",
    "\n",
    "model.eval()\n",
    "\n",
    "reference_text = alice\n",
    "\n",
    "# torch.manual_seed(5)\n",
    "# np.random.seed(5)\n",
    "\n",
    "greedy_text = generate_from_text(temperature=None, p=None, prompt='A', doPrint=False)\n",
    "temperature_text = generate_from_text(temperature=0.8, p=None, prompt='A', doPrint=False)\n",
    "nucleus_text = generate_from_text(temperature=0.8, p=0.9, prompt='A', doPrint=False)"
   ]
  },
  {
   "cell_type": "markdown",
   "metadata": {},
   "source": [
    "### TTR"
   ]
  },
  {
   "cell_type": "code",
   "execution_count": 28,
   "metadata": {},
   "outputs": [
    {
     "name": "stdout",
     "output_type": "stream",
     "text": [
      "Greedy TTR: 0.32663316582914576\n",
      "Temperature TTR: 0.7172774869109948\n",
      "Nucleus TTR: 0.6180904522613065\n"
     ]
    }
   ],
   "source": [
    "greedy_ttr = calculate_ttr(greedy_text)\n",
    "temperature_ttr = calculate_ttr(temperature_text)\n",
    "nucleus_ttr = calculate_ttr(nucleus_text)\n",
    "\n",
    "print(\"Greedy TTR:\", greedy_ttr)\n",
    "print(\"Temperature TTR:\", temperature_ttr)\n",
    "print(\"Nucleus TTR:\", nucleus_ttr)"
   ]
  },
  {
   "cell_type": "markdown",
   "metadata": {},
   "source": [
    "### Perplexity"
   ]
  },
  {
   "cell_type": "code",
   "execution_count": 29,
   "metadata": {},
   "outputs": [
    {
     "name": "stdout",
     "output_type": "stream",
     "text": [
      "Perplexity greedy: 10.627132415771484\n",
      "Perplexity temperature: 94.85871887207031\n",
      "Perplexity nucleus: 85.6818618774414\n",
      "Perplexity reference: 50.75355911254883\n"
     ]
    }
   ],
   "source": [
    "reference_text = raw_text[-1000:]\n",
    "\n",
    "perplexity_greedy = calculate_perplexity(greedy_text, gpt2_model, tokenizer, device)\n",
    "print(f\"Perplexity greedy: {perplexity_greedy}\")\n",
    "\n",
    "perplexity_temperature = calculate_perplexity(temperature_text, gpt2_model, tokenizer, device)\n",
    "print(f\"Perplexity temperature: {perplexity_temperature}\")\n",
    "\n",
    "perplexity_nucleus = calculate_perplexity(nucleus_text, gpt2_model, tokenizer, device)\n",
    "print(f\"Perplexity nucleus: {perplexity_nucleus}\")\n",
    "\n",
    "perplexity = calculate_perplexity(reference_text, gpt2_model, tokenizer, device)\n",
    "print(f\"Perplexity reference: {perplexity}\")"
   ]
  },
  {
   "cell_type": "markdown",
   "metadata": {},
   "source": [
    "### Spell Check"
   ]
  },
  {
   "cell_type": "code",
   "execution_count": 30,
   "metadata": {},
   "outputs": [
    {
     "name": "stdout",
     "output_type": "stream",
     "text": [
      "Greedy Text Percentage of correctly spelled words: 98.55%\n",
      "Temperature Text Percentage of correctly spelled words: 96.46%\n",
      "Nucleus Text Percentage of correctly spelled words: 99.50%\n",
      "Reference Text Percentage of correctly spelled words: 99.46%\n"
     ]
    }
   ],
   "source": [
    "greedy_text_percentage = calculate_correctly_spelled_percentage(greedy_text)\n",
    "print(f\"Greedy Text Percentage of correctly spelled words: {greedy_text_percentage:.2f}%\")\n",
    "\n",
    "temperature_text_percentage = calculate_correctly_spelled_percentage(temperature_text)\n",
    "print(f\"Temperature Text Percentage of correctly spelled words: {temperature_text_percentage:.2f}%\")\n",
    "\n",
    "nucleus_text_percentage = calculate_correctly_spelled_percentage(nucleus_text)\n",
    "print(f\"Nucleus Text Percentage of correctly spelled words: {nucleus_text_percentage:.2f}%\")\n",
    "\n",
    "reference_text_percentage = calculate_correctly_spelled_percentage(reference_text)\n",
    "print(f\"Reference Text Percentage of correctly spelled words: {reference_text_percentage:.2f}%\")\n"
   ]
  },
  {
   "cell_type": "markdown",
   "metadata": {},
   "source": [
    "### BLEU Score"
   ]
  },
  {
   "cell_type": "code",
   "execution_count": 31,
   "metadata": {},
   "outputs": [
    {
     "name": "stdout",
     "output_type": "stream",
     "text": [
      "Greedy BLEU Score: 0.80\n",
      "Temperature BLEU Score: 1.23\n",
      "Nucleus BLEU Score: 1.31\n"
     ]
    }
   ],
   "source": [
    "reference_text = alice[-1000:]\n",
    "greedy_bleu_score = calculate_bleu_score(reference_text, greedy_text) * 100\n",
    "print(f\"Greedy BLEU Score: {greedy_bleu_score:.2f}\")\n",
    "\n",
    "temperature_bleu_score = calculate_bleu_score(reference_text, temperature_text) * 100\n",
    "print(f\"Temperature BLEU Score: {temperature_bleu_score:.2f}\")\n",
    "\n",
    "nucleus_bleu_score = calculate_bleu_score(reference_text, nucleus_text) * 100\n",
    "print(f\"Nucleus BLEU Score: {nucleus_bleu_score:.2f}\")\n"
   ]
  },
  {
   "cell_type": "markdown",
   "metadata": {},
   "source": [
    "## Hidden Size Comparison"
   ]
  },
  {
   "cell_type": "code",
   "execution_count": 77,
   "metadata": {},
   "outputs": [
    {
     "name": "stdout",
     "output_type": "stream",
     "text": [
      "Done.\n",
      "Done.\n",
      "Done.\n",
      "Done.\n"
     ]
    }
   ],
   "source": [
    "hidden_sizes = [64, 128, 256, 512]\n",
    "seq_length = 100\n",
    "\n",
    "texts = []\n",
    "\n",
    "for h in hidden_sizes:\n",
    "    model = CharModel(n_vocab, embedding_dim=50, hidden_size=h, num_layers=2, dropout=0, norm=False, type='lstm').to(device)\n",
    "    best_model = torch.load(f\"LSTM_Hidden_Size/lstm_layers_2_hidden_{h}.pt\")\n",
    "\n",
    "    n_vocab = len(char_to_int)\n",
    "    int_to_char = dict((i, c) for c, i in char_to_int.items())\n",
    "    model.load_state_dict(best_model)\n",
    "    model.eval()\n",
    "    nucleus_text = generate_from_text(temperature=0.8, p=0.9, prompt='A', doPrint=False)\n",
    "    texts.append(nucleus_text)"
   ]
  },
  {
   "cell_type": "code",
   "execution_count": 78,
   "metadata": {},
   "outputs": [],
   "source": [
    "ttr_scores = []\n",
    "perplexity_scores = []\n",
    "text_percentage_scores = []\n",
    "bleu_scores = []\n",
    "\n",
    "for k in range(len(hidden_sizes)):\n",
    "    ttr_score = calculate_ttr(texts[k])\n",
    "    ttr_scores.append(ttr_score)\n",
    "\n",
    "    perplexity_score = calculate_perplexity(texts[k], gpt2_model, tokenizer, device)\n",
    "    perplexity_scores.append(perplexity_score)\n",
    "\n",
    "    text_percentage = calculate_correctly_spelled_percentage(texts[k])\n",
    "    text_percentage_scores.append(text_percentage)\n",
    "\n",
    "    bleu_score = calculate_bleu_score(reference_text, texts[k]) * 100\n",
    "    bleu_scores.append(bleu_score)"
   ]
  },
  {
   "cell_type": "code",
   "execution_count": 79,
   "metadata": {},
   "outputs": [
    {
     "data": {
      "image/png": "[encoded data removed]",
      "text/plain": [
       "<Figure size 1200x800 with 4 Axes>"
      ]
     },
     "metadata": {},
     "output_type": "display_data"
    }
   ],
   "source": [
    "indices = np.arange(len(hidden_sizes))\n",
    "\n",
    "pastel_colors = ['#aec6cf', '#ffb3ba', '#ffdfba', '#ffffba']\n",
    "\n",
    "f = plt.figure(figsize=(12, 8))\n",
    "\n",
    "plt.subplot(2, 2, 1)\n",
    "plt.bar(indices, ttr_scores, width=0.5, color=pastel_colors)  # Use pastel colors\n",
    "plt.xlabel('Hidden Size')\n",
    "plt.ylabel('TTR Score')\n",
    "# plt.title('TTR Score for Different Hidden Sizes')\n",
    "plt.xticks(indices, hidden_sizes)  # Set the x-ticks to the specific hidden sizes\n",
    "\n",
    "plt.subplot(2, 2, 2)\n",
    "plt.bar(indices, perplexity_scores, width=0.5, color=pastel_colors)  # Use pastel colors\n",
    "plt.xlabel('Hidden Size')\n",
    "plt.ylabel('Perplexity')\n",
    "# plt.title('Perplexity for Different Hidden Sizes')\n",
    "plt.xticks(indices, hidden_sizes)  # Set the x-ticks to the specific hidden sizes\n",
    "\n",
    "plt.subplot(2, 2, 3)\n",
    "plt.bar(indices, text_percentage_scores, width=0.5, color=pastel_colors)  # Use pastel colors\n",
    "plt.xlabel('Hidden Size')\n",
    "plt.ylabel('Percentage of Correctly Spelled Words')\n",
    "# plt.title('Percentage of Correctly Spelled Words for Different Hidden Sizes')\n",
    "plt.xticks(indices, hidden_sizes)  # Set the x-ticks to the specific hidden sizes\n",
    "\n",
    "plt.subplot(2, 2, 4)\n",
    "plt.bar(indices, bleu_scores, width=0.5, color=pastel_colors)  # Use pastel colors\n",
    "plt.xlabel('Hidden Size')\n",
    "plt.ylabel('BLEU Score')\n",
    "# plt.title('BLEU Score for Different Hidden Sizes')\n",
    "plt.xticks(indices, hidden_sizes)  # Set the x-ticks to the specific hidden sizes\n",
    "plt.show()\n",
    "\n"
   ]
  },
  {
   "cell_type": "markdown",
   "metadata": {},
   "source": [
    "### Number Of Layers"
   ]
  },
  {
   "cell_type": "code",
   "execution_count": 86,
   "metadata": {},
   "outputs": [
    {
     "name": "stdout",
     "output_type": "stream",
     "text": [
      "Done.\n",
      "Done.\n",
      "Done.\n"
     ]
    }
   ],
   "source": [
    "nb_layers = [2, 3, 4]\n",
    "seq_length = 100\n",
    "\n",
    "texts = []\n",
    "\n",
    "for l in nb_layers:\n",
    "    model = CharModel(n_vocab, embedding_dim=50, hidden_size=256, num_layers=l, dropout=0, norm=False, type='lstm').to(device)\n",
    "    # best_model = torch.load(f\"LSTM_NbOfLayers/lstm_layers_{l}_dropout_0.4.pt\")\n",
    "    best_model = torch.load(f\"LSTM_NbOfLayers/lstm_layers_{l}_dropout_0.pt\")\n",
    "    n_vocab = len(char_to_int)\n",
    "    int_to_char = dict((i, c) for c, i in char_to_int.items())\n",
    "    model.load_state_dict(best_model)\n",
    "    model.eval()\n",
    "    nucleus_text = generate_from_text(temperature=0.8, p=0.9, prompt='A', doPrint=False)\n",
    "    texts.append(nucleus_text)\n"
   ]
  },
  {
   "cell_type": "code",
   "execution_count": 87,
   "metadata": {},
   "outputs": [],
   "source": [
    "ttr_scores = []\n",
    "perplexity_scores = []\n",
    "text_percentage_scores = []\n",
    "bleu_scores = []\n",
    "\n",
    "for k in range(len(nb_layers)):\n",
    "    ttr_score = calculate_ttr(texts[k])\n",
    "    ttr_scores.append(ttr_score)\n",
    "\n",
    "    perplexity_score = calculate_perplexity(texts[k], gpt2_model, tokenizer, device)\n",
    "    perplexity_scores.append(perplexity_score)\n",
    "\n",
    "    text_percentage = calculate_correctly_spelled_percentage(texts[k])\n",
    "    text_percentage_scores.append(text_percentage)\n",
    "\n",
    "    bleu_score = calculate_bleu_score(reference_text, texts[k]) * 100\n",
    "    bleu_scores.append(bleu_score)"
   ]
  },
  {
   "cell_type": "code",
   "execution_count": 88,
   "metadata": {},
   "outputs": [
    {
     "data": {
      "image/png": "[encoded data removed]",
      "text/plain": [
       "<Figure size 1200x800 with 4 Axes>"
      ]
     },
     "metadata": {},
     "output_type": "display_data"
    }
   ],
   "source": [
    "indices = np.arange(len(nb_layers))\n",
    "\n",
    "pastel_colors = ['#aec6cf', '#ffb3ba', '#ffdfba', '#ffffba']\n",
    "\n",
    "f = plt.figure(figsize=(12, 8))\n",
    "\n",
    "plt.subplot(2, 2, 1)\n",
    "plt.bar(indices, ttr_scores, width=0.5, color=pastel_colors)  # Use pastel colors\n",
    "plt.xlabel('Layers')\n",
    "plt.ylabel('TTR Score')\n",
    "# plt.title('TTR Score for Different Hidden Sizes')\n",
    "plt.xticks(indices, nb_layers)  # Set the x-ticks to the specific hidden sizes\n",
    "\n",
    "plt.subplot(2, 2, 2)\n",
    "plt.bar(indices, perplexity_scores, width=0.5, color=pastel_colors)  # Use pastel colors\n",
    "plt.xlabel('Layers')\n",
    "plt.ylabel('Perplexity')\n",
    "# plt.title('Perplexity for Different Hidden Sizes')\n",
    "plt.xticks(indices, nb_layers)  # Set the x-ticks to the specific hidden sizes\n",
    "\n",
    "plt.subplot(2, 2, 3)\n",
    "plt.bar(indices, text_percentage_scores, width=0.5, color=pastel_colors)  # Use pastel colors\n",
    "plt.xlabel('Layers')\n",
    "plt.ylabel('Percentage of Correctly Spelled Words')\n",
    "# plt.title('Percentage of Correctly Spelled Words for Different Hidden Sizes')\n",
    "plt.xticks(indices, nb_layers)  # Set the x-ticks to the specific hidden sizes\n",
    "\n",
    "plt.subplot(2, 2, 4)\n",
    "plt.bar(indices, bleu_scores, width=0.5, color=pastel_colors)  # Use pastel colors\n",
    "plt.xlabel('Layers')\n",
    "plt.ylabel('BLEU Score')\n",
    "# plt.title('BLEU Score for Different Hidden Sizes')\n",
    "plt.xticks(indices, nb_layers)  # Set the x-ticks to the specific hidden sizes\n",
    "plt.show()\n",
    "\n"
   ]
  }
 ],
 "metadata": {
  "kernelspec": {
   "display_name": ".venv",
   "language": "python",
   "name": "python3"
  },
  "language_info": {
   "codemirror_mode": {
    "name": "ipython",
    "version": 3
   },
   "file_extension": ".py",
   "mimetype": "text/x-python",
   "name": "python",
   "nbconvert_exporter": "python",
   "pygments_lexer": "ipython3",
   "version": "3.10.12"
  }
 },
 "nbformat": 4,
 "nbformat_minor": 2
}
