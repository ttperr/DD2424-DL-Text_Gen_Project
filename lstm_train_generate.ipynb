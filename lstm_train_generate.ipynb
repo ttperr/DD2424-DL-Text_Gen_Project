{
 "cells": [
  {
   "cell_type": "markdown",
   "metadata": {},
   "source": [
    "## Libraries"
   ]
  },
  {
   "cell_type": "code",
   "execution_count": 1,
   "metadata": {},
   "outputs": [
    {
     "name": "stderr",
     "output_type": "stream",
     "text": [
      "[nltk_data] Downloading package gutenberg to\n",
      "[nltk_data]     /home/infres/pmauduit-21/nltk_data...\n",
      "[nltk_data]   Package gutenberg is already up-to-date!\n",
      "[nltk_data] Downloading package punkt to\n",
      "[nltk_data]     /home/infres/pmauduit-21/nltk_data...\n",
      "[nltk_data]   Package punkt is already up-to-date!\n"
     ]
    }
   ],
   "source": [
    "import numpy as np\n",
    "import torch\n",
    "import torch.nn as nn\n",
    "import torch.optim as optim\n",
    "import torch.utils.data as data\n",
    "from torch.utils.tensorboard import SummaryWriter\n",
    "import nltk \n",
    "from nltk.corpus import gutenberg\n",
    "nltk.download('gutenberg')\n",
    "nltk.download('punkt')\n",
    "import os"
   ]
  },
  {
   "cell_type": "code",
   "execution_count": 2,
   "metadata": {},
   "outputs": [
    {
     "name": "stdout",
     "output_type": "stream",
     "text": [
      "device: cuda:0\n",
      "current directory: /home/infres/pmauduit-21/project/Good_models\n"
     ]
    }
   ],
   "source": [
    "device = torch.device('cuda:0'if torch.cuda.is_available() else \"cpu\") # Use GPU if available\n",
    "print('device:', device)\n",
    "print('current directory:', os.getcwd())"
   ]
  },
  {
   "cell_type": "markdown",
   "metadata": {},
   "source": [
    "## Data"
   ]
  },
  {
   "cell_type": "code",
   "execution_count": 3,
   "metadata": {},
   "outputs": [
    {
     "name": "stdout",
     "output_type": "stream",
     "text": [
      "vocab size: 69\n"
     ]
    }
   ],
   "source": [
    "# Load the data from the gutenberg corpus\n",
    "alice = gutenberg.raw('carroll-alice.txt')\n",
    "# Remove the header\n",
    "header = alice.find(\"CHAPTER I.\")\n",
    "alice = alice[header:]\n",
    "# raw_text = alice.lower()\n",
    "raw_text = alice\n",
    "# Define char_to_int and int_to_char\n",
    "chars = sorted(list(set(raw_text)))\n",
    "char_to_int = {c: i for i, c in enumerate(chars)}\n",
    "int_to_char = {i: c for i, c in enumerate(chars)}\n",
    "n_vocab = len(chars)\n",
    "# Split the data into train, validation, and test sets\n",
    "train_text = raw_text[:-22067]\n",
    "val_text = raw_text[-22067:-11681]\n",
    "test_text = raw_text[-11681:]\n",
    "\n",
    "print('vocab size:', n_vocab)"
   ]
  },
  {
   "cell_type": "code",
   "execution_count": 4,
   "metadata": {},
   "outputs": [
    {
     "name": "stdout",
     "output_type": "stream",
     "text": [
      "Total train Characters:  122270\n",
      "Total val Characters:  10386\n",
      "Total test Characters:  11681\n",
      "Total Patterns train:  122170\n",
      "Total Patterns test:  11581\n",
      "Total Patterns val:  10286\n"
     ]
    }
   ],
   "source": [
    "# summarize the loaded data\n",
    "n_chars_train = len(train_text)\n",
    "n_chars_val = len(val_text)\n",
    "n_chars_test = len(test_text)\n",
    "\n",
    "print(\"Total train Characters: \", n_chars_train)\n",
    "print(\"Total val Characters: \", n_chars_val)\n",
    "print(\"Total test Characters: \", n_chars_test)\n",
    "\n",
    "# prepare the dataset of input to output pairs encoded as integers\n",
    "seq_length = 100\n",
    "\n",
    "dataX_train = []\n",
    "dataY_train = []\n",
    "for i in range(0, n_chars_train - seq_length, 1):\n",
    "    seq_in = train_text[i:i + seq_length]\n",
    "    seq_out = train_text[i + seq_length]\n",
    "    dataX_train.append([char_to_int[char] for char in seq_in])\n",
    "    dataY_train.append(char_to_int[seq_out])\n",
    "n_patterns_train = len(dataX_train)\n",
    "print(\"Total Patterns train: \", n_patterns_train)\n",
    "# reshape X to be [samples, time steps, features]\n",
    "X_train = torch.tensor(dataX_train, dtype=torch.long).reshape(n_patterns_train, seq_length, 1)\n",
    "y_train = torch.tensor(dataY_train, dtype=torch.long)\n",
    "\n",
    "dataX_test = []\n",
    "dataY_test = []\n",
    "for i in range(0, n_chars_test - seq_length, 1):\n",
    "    seq_in = test_text[i:i + seq_length]\n",
    "    seq_out = test_text[i + seq_length]\n",
    "    dataX_test.append([char_to_int[char] for char in seq_in])\n",
    "    dataY_test.append(char_to_int[seq_out])\n",
    "n_patterns_test = len(dataX_test)\n",
    "print(\"Total Patterns test: \", n_patterns_test)\n",
    "X_test = torch.tensor(dataX_test, dtype=torch.long).reshape(n_patterns_test, seq_length, 1)\n",
    "y_test = torch.tensor(dataY_test, dtype=torch.long)\n",
    "\n",
    "dataX_val = []\n",
    "dataY_val = []\n",
    "for i in range(0, n_chars_val - seq_length, 1):\n",
    "    seq_in = val_text[i:i + seq_length]\n",
    "    seq_out = val_text[i + seq_length]\n",
    "    dataX_val.append([char_to_int[char] for char in seq_in])\n",
    "    dataY_val.append(char_to_int[seq_out])\n",
    "n_patterns_val = len(dataX_val)\n",
    "print(\"Total Patterns val: \", n_patterns_val)\n",
    "X_val = torch.tensor(dataX_val, dtype=torch.long).reshape(n_patterns_val, seq_length, 1)\n",
    "y_val = torch.tensor(dataY_val, dtype=torch.long)\n"
   ]
  },
  {
   "cell_type": "markdown",
   "metadata": {},
   "source": [
    "## Model"
   ]
  },
  {
   "cell_type": "code",
   "execution_count": 5,
   "metadata": {},
   "outputs": [],
   "source": [
    "from tqdm import trange\n",
    "\n",
    "def train_model(name):\n",
    "    writer = SummaryWriter(log_dir=f'runs/{name}')\n",
    "    best_model = None\n",
    "    best_loss = float('inf')\n",
    "    iter = 0\n",
    "    val_cnt = 0\n",
    "    for epoch in trange(n_epochs):\n",
    "        model.train()\n",
    "        for i, (X_batch, y_batch) in enumerate(loader):\n",
    "            X_batch, y_batch = X_batch.to(device), y_batch.to(device)\n",
    "            optimizer.zero_grad()\n",
    "            y_pred = model(X_batch)\n",
    "            loss = loss_fn(y_pred, y_batch)\n",
    "            loss.backward()\n",
    "            optimizer.step()\n",
    "            writer.add_scalar('Loss/train', loss.item(), iter)\n",
    "            iter += 1\n",
    "        model.eval()\n",
    "        val_loss = 0\n",
    "        with torch.no_grad():\n",
    "            for X_batch, y_batch in val_loader:\n",
    "                X_batch, y_batch = X_batch.to(device), y_batch.to(device)\n",
    "                y_pred = model(X_batch)\n",
    "                val_loss += loss_fn(y_pred, y_batch).item()\n",
    "        val_loss /= len(val_loader)\n",
    "        writer.add_scalar('Loss/val', val_loss, epoch)\n",
    "        if val_loss < best_loss:\n",
    "            best_loss = val_loss\n",
    "            best_model = model.state_dict() \n",
    "            val_cnt = 0\n",
    "        else:\n",
    "            val_cnt += 1\n",
    "        if val_cnt == early_stopping:\n",
    "            print(f'Early stopping at epoch {epoch}')\n",
    "            break  \n",
    "        # print(f'Epoch {epoch}, val_loss: {val_loss}')\n",
    "    torch.save(best_model, f'{name}.pt')\n",
    "    writer.close()\n",
    "    test_loss = 0\n",
    "    with torch.no_grad():\n",
    "        for X_batch, y_batch in test_loader:\n",
    "            X_batch, y_batch = X_batch.to(device), y_batch.to(device)\n",
    "            y_pred = model(X_batch)\n",
    "            test_loss += loss_fn(y_pred, y_batch).item()\n",
    "    test_loss /= len(test_loader)\n",
    "    print(f'Test loss: {test_loss}')"
   ]
  },
  {
   "cell_type": "code",
   "execution_count": 109,
   "metadata": {},
   "outputs": [],
   "source": [
    "class CharModel(nn.Module):\n",
    "    def __init__(self, n_vocab, embedding_dim=128, hidden_size=256, num_layers=2, dropout=0.2, norm=False, type = 'lstm'):\n",
    "        super().__init__()\n",
    "        if embedding_dim > 1:\n",
    "            self.embedding = nn.Embedding(num_embeddings=n_vocab, embedding_dim=embedding_dim)   \n",
    "\n",
    "        if type == 'lstm':\n",
    "            self.lstm = nn.LSTM(input_size=embedding_dim, hidden_size=hidden_size, num_layers=num_layers, batch_first=True, dropout=dropout)\n",
    "        elif type == 'gru':\n",
    "            self.lstm = nn.GRU(input_size=embedding_dim, hidden_size=hidden_size, num_layers=num_layers, batch_first=True, dropout=dropout)\n",
    "        elif type == 'rnn':\n",
    "            self.lstm = nn.RNN(input_size=embedding_dim, hidden_size=hidden_size, num_layers=num_layers, batch_first=True, dropout=dropout)\n",
    "        self.dropout = nn.Dropout(dropout)\n",
    "        if norm:\n",
    "            self.norm = nn.LayerNorm(hidden_size)\n",
    "        self.linear = nn.Linear(hidden_size, n_vocab)\n",
    "\n",
    "    def forward(self, x):\n",
    "        # Convert input to Long type\n",
    "        if hasattr(self, 'embedding'):\n",
    "            x = x.long().squeeze(-1)\n",
    "            x = self.embedding(x)\n",
    "        else:\n",
    "            x = x/float(n_vocab)\n",
    "            if x.dim() == 2:\n",
    "                x.unsqueeze_(-1) # Problem ???\n",
    "        x, _ = self.lstm(x)\n",
    "        # Take only the last output\n",
    "        if x.dim() == 2:\n",
    "            x = x.unsqueeze(0) # Problem with batch size = 1 during inference\n",
    "        x = x[:, -1, :]\n",
    "        # Normalize\n",
    "        if hasattr(self, 'norm'):\n",
    "            x = self.norm(x)\n",
    "        x = self.linear(self.dropout(x))\n",
    "        return x\n",
    "    "
   ]
  },
  {
   "cell_type": "code",
   "execution_count": 7,
   "metadata": {},
   "outputs": [
    {
     "name": "stderr",
     "output_type": "stream",
     "text": [
      " 62%|██████▏   | 31/50 [01:22<00:50,  2.67s/it]\n"
     ]
    },
    {
     "name": "stdout",
     "output_type": "stream",
     "text": [
      "Early stopping at epoch 31\n",
      "Test loss: 2.676587612732597\n"
     ]
    },
    {
     "name": "stderr",
     "output_type": "stream",
     "text": [
      " 58%|█████▊    | 29/50 [01:49<01:19,  3.78s/it]\n"
     ]
    },
    {
     "name": "stdout",
     "output_type": "stream",
     "text": [
      "Early stopping at epoch 29\n",
      "Test loss: 2.3867270220880923\n"
     ]
    },
    {
     "name": "stderr",
     "output_type": "stream",
     "text": [
      " 86%|████████▌ | 43/50 [01:31<00:14,  2.13s/it]\n"
     ]
    },
    {
     "name": "stdout",
     "output_type": "stream",
     "text": [
      "Early stopping at epoch 43\n",
      "Test loss: 2.6802212362704068\n"
     ]
    },
    {
     "name": "stderr",
     "output_type": "stream",
     "text": [
      " 92%|█████████▏| 46/50 [02:34<00:13,  3.35s/it]"
     ]
    },
    {
     "name": "stdout",
     "output_type": "stream",
     "text": [
      "Early stopping at epoch 46\n"
     ]
    },
    {
     "name": "stderr",
     "output_type": "stream",
     "text": [
      "\n"
     ]
    },
    {
     "name": "stdout",
     "output_type": "stream",
     "text": [
      "Test loss: 2.2934982154680337\n"
     ]
    }
   ],
   "source": [
    "types = ['lstm', 'rnn']\n",
    "# types = ['rnn']\n",
    "num_layers = [1, 2]\n",
    "hidden_size = 256\n",
    "# embedding_dim = [1,50]\n",
    "embedding_dim = [1]\n",
    "norm = False\n",
    "dropout = 0\n",
    "early_stopping = 10\n",
    "n_epochs = 50\n",
    "batch_size = 512\n",
    "for t in types:\n",
    "    for l in num_layers:\n",
    "        for e in embedding_dim:\n",
    "            model = CharModel(n_vocab, embedding_dim=e, hidden_size=hidden_size, num_layers=l, dropout=dropout, norm=norm, type=t).to(device)\n",
    "            optimizer = optim.Adam(model.parameters(), lr=0.001)\n",
    "            loss_fn = nn.CrossEntropyLoss()\n",
    "            loader = data.DataLoader(data.TensorDataset(X_train, y_train), batch_size=batch_size, shuffle=True)\n",
    "            val_loader = data.DataLoader(data.TensorDataset(X_val, y_val), batch_size=batch_size, shuffle=False)\n",
    "            test_loader = data.DataLoader(data.TensorDataset(X_test, y_test), batch_size=batch_size, shuffle=False)\n",
    "            train_model(f'default_{t}_layers_{l}')"
   ]
  },
  {
   "cell_type": "code",
   "execution_count": 85,
   "metadata": {},
   "outputs": [
    {
     "name": "stderr",
     "output_type": "stream",
     "text": [
      "  0%|          | 0/20 [00:00<?, ?it/s]"
     ]
    },
    {
     "name": "stderr",
     "output_type": "stream",
     "text": [
      "100%|██████████| 20/20 [01:57<00:00,  5.86s/it]"
     ]
    },
    {
     "name": "stdout",
     "output_type": "stream",
     "text": [
      "Test loss: 1.801982864089634\n"
     ]
    },
    {
     "name": "stderr",
     "output_type": "stream",
     "text": [
      "\n"
     ]
    }
   ],
   "source": [
    "types = ['lstm']\n",
    "num_layers = [2]\n",
    "hidden_size = 256\n",
    "# embedding_dim = [1,50]\n",
    "embedding_dim = [50]\n",
    "norm = True\n",
    "dropout = 0.2\n",
    "early_stopping = 10\n",
    "n_epochs = 20\n",
    "batch_size = 512\n",
    "for t in types:\n",
    "    for l in num_layers:\n",
    "        for e in embedding_dim:\n",
    "            model = CharModel(n_vocab, embedding_dim=e, hidden_size=hidden_size, num_layers=l, dropout=dropout, norm=norm, type=t).to(device)\n",
    "            optimizer = optim.Adam(model.parameters(), lr=0.001)\n",
    "            loss_fn = nn.CrossEntropyLoss()\n",
    "            loader = data.DataLoader(data.TensorDataset(X_train, y_train), batch_size=batch_size, shuffle=True)\n",
    "            val_loader = data.DataLoader(data.TensorDataset(X_val, y_val), batch_size=batch_size, shuffle=False)\n",
    "            test_loader = data.DataLoader(data.TensorDataset(X_test, y_test), batch_size=batch_size, shuffle=False)\n",
    "            train_model(f'default_{t}_layers_{l}_embedding_{e}')"
   ]
  },
  {
   "cell_type": "code",
   "execution_count": 28,
   "metadata": {},
   "outputs": [
    {
     "data": {
      "image/png": "[encoded data removed]",
      "text/plain": [
       "<Figure size 1500x500 with 2 Axes>"
      ]
     },
     "metadata": {},
     "output_type": "display_data"
    }
   ],
   "source": [
    "import os\n",
    "import numpy as np\n",
    "import matplotlib.pyplot as plt\n",
    "from tensorboard.backend.event_processing import event_accumulator\n",
    "\n",
    "# Define the paths to your log directories\n",
    "logdirs = [\n",
    "    ('LSTM 1 Layer', '/home/infres/pmauduit-21/project/Good_models/runs/default_lstm_layers_1'),\n",
    "    ('RNN 1 Layer', '/home/infres/pmauduit-21/project/Good_models/runs/default_rnn_layers_1'),\n",
    "    ('LSTM 2 Layers', '/home/infres/pmauduit-21/project/Good_models/runs/default_lstm_layers_2'),\n",
    "    ('RNN 2 Layers', '/home/infres/pmauduit-21/project/Good_models/runs/default_rnn_layers_2'),\n",
    "    ('GRU 1 Layer', '/home/infres/pmauduit-21/project/Good_models/runs/default_gru_layers_1'),\n",
    "    ('GRU 2 Layers', '/home/infres/pmauduit-21/project/Good_models/runs/default_gru_layers_2')\n",
    "]\n",
    "\n",
    "# Smoothing function\n",
    "def smooth(values, factor=0.99):\n",
    "    smoothed_values = []\n",
    "    for v in values:\n",
    "        if smoothed_values:\n",
    "            smoothed_values.append(smoothed_values[-1] * factor + v * (1 - factor))\n",
    "        else:\n",
    "            smoothed_values.append(v)\n",
    "    return smoothed_values\n",
    "\n",
    "# Extract scalars from TensorBoard logs\n",
    "def extract_scalars(logdir, tag):\n",
    "    ea = event_accumulator.EventAccumulator(logdir)\n",
    "    ea.Reload()\n",
    "    steps = []\n",
    "    values = []\n",
    "    for event in ea.Scalars(tag):\n",
    "        steps.append(event.step)\n",
    "        values.append(event.value)\n",
    "    return steps, values\n",
    "\n",
    "f = plt.figure(figsize=(15, 5))\n",
    "\n",
    "# Plot training and validation losses\n",
    "plt.subplot(1, 2, 1)\n",
    "\n",
    "for name, logdir in logdirs:\n",
    "    train_tag = 'Loss/train'    \n",
    "    train_steps, train_values = extract_scalars(logdir, train_tag)    \n",
    "    train_values_smoothed = smooth(train_values)    \n",
    "    plt.plot(train_steps, train_values_smoothed, label=f'{name}')\n",
    "\n",
    "plt.xlabel('Steps')\n",
    "plt.ylabel('Loss')\n",
    "plt.title('Training Loss')\n",
    "plt.legend()\n",
    "plt.grid(True)\n",
    "\n",
    "plt.subplot(1, 2, 2)\n",
    "\n",
    "for name, logdir in logdirs:\n",
    "    val_tag = 'Loss/val'    \n",
    "    val_steps, val_values = extract_scalars(logdir, val_tag)    \n",
    "    val_values_smoothed = smooth(val_values, factor=0.2)    \n",
    "    plt.plot(val_steps, val_values_smoothed, label=f'{name}')\n",
    "\n",
    "plt.xlabel('Steps')\n",
    "plt.ylabel('Loss')\n",
    "plt.title('Validation Loss')\n",
    "plt.legend()\n",
    "plt.grid(True)\n",
    "plt.show()\n"
   ]
  },
  {
   "cell_type": "code",
   "execution_count": null,
   "metadata": {},
   "outputs": [],
   "source": [
    "# types = ['lstm', 'gru', 'rnn']\n",
    "types = ['lstm', 'rnn']\n",
    "# num_layers = [1, 2, 3] \n",
    "num_layers = [1, 2]\n",
    "# hidden_size = [128, 256, 512]\n",
    "hidden_size = [128, 256]\n",
    "# embedding_dim = [1, 50, 100]\n",
    "embedding_dim = [50]\n",
    "# dropout = [0, 0.2, 0.5]\n",
    "dropout = [0, 0.2]\n",
    "# norm = [False, True]\n",
    "norm = [False]\n",
    "early_stopping = 5\n",
    "n_epochs = 20\n",
    "batch_size = 1024\n",
    "\n",
    "for t in types:\n",
    "    for l in num_layers:\n",
    "        for h in hidden_size:\n",
    "            for e in embedding_dim:\n",
    "                for n in norm:\n",
    "                    if l > 1:\n",
    "                        dropout = [0, 0.2]\n",
    "                    else:\n",
    "                        dropout = [0]\n",
    "                    for d in dropout:                    \n",
    "                        name = f'{t}_layers_{l}_hid_{h}_emb_{e}_drop_{d}_norm_{n}'\n",
    "                        print(name)\n",
    "                        model = CharModel(n_vocab=n_vocab, embedding_dim=e, hidden_size=h, num_layers=l, dropout=d, norm=n, type = t)\n",
    "                        model.to(device)\n",
    "                        optimizer = optim.Adam(model.parameters())\n",
    "                        loss_fn = nn.CrossEntropyLoss()\n",
    "                        loader = data.DataLoader(data.TensorDataset(X_train, y_train), shuffle=True, batch_size=batch_size)\n",
    "                        val_loader = data.DataLoader(data.TensorDataset(X_val, y_val), shuffle=False, batch_size=batch_size)\n",
    "                        test_loader = data.DataLoader(data.TensorDataset(X_test, y_test), shuffle=False, batch_size=batch_size)\n",
    "                        train_model(name)\n",
    "                        print('')"
   ]
  },
  {
   "cell_type": "markdown",
   "metadata": {},
   "source": [
    "## Loading model"
   ]
  },
  {
   "cell_type": "code",
   "execution_count": 120,
   "metadata": {},
   "outputs": [
    {
     "data": {
      "text/plain": [
       "<All keys matched successfully>"
      ]
     },
     "execution_count": 120,
     "metadata": {},
     "output_type": "execute_result"
    }
   ],
   "source": [
    "# Generation using the trained model\n",
    "# model = CharModel(n_vocab, embedding_dim=1, hidden_size=256, num_layers=2, dropout=0, norm=False, type='gru').to(device)\n",
    "# best_model = torch.load(\"default_gru_layers_2.pt\")\n",
    "\n",
    "# model = CharModel(n_vocab, embedding_dim=1, hidden_size=256, num_layers=2, dropout=0, norm=False, type='lstm').to(device)\n",
    "# best_model = torch.load(\"default_lstm_layers_2.pt\")\n",
    "\n",
    "model = CharModel(n_vocab, embedding_dim=50, hidden_size=256, num_layers=2, dropout=0.2, norm=True, type='lstm').to(device)\n",
    "best_model = torch.load(\"default_lstm_layers_2_embedding_50.pt\")\n",
    "\n",
    "# best_model = torch.load(f'{name}.pt')\n",
    "\n",
    "n_vocab = len(char_to_int)\n",
    "int_to_char = dict((i, c) for c, i in char_to_int.items())\n",
    "model.load_state_dict(best_model)"
   ]
  },
  {
   "cell_type": "markdown",
   "metadata": {},
   "source": [
    "## Generating text"
   ]
  },
  {
   "cell_type": "code",
   "execution_count": 121,
   "metadata": {},
   "outputs": [],
   "source": [
    "def apply_temperature_scaling(logits, temperature):\n",
    "    # Scale logits by the temperature\n",
    "    logits = logits / temperature\n",
    "    # Convert scaled logits to probabilities\n",
    "    probs = torch.softmax(logits, dim=-1)\n",
    "    return probs\n",
    "\n",
    "# Nucleus sampling function\n",
    "def nucleus_sampling(probs, p, device):\n",
    "    # Sort the probabilities in descending order\n",
    "    sorted_probs, sorted_indices = torch.sort(probs, descending=True)\n",
    "    cumulative_probs = torch.cumsum(sorted_probs, dim=-1)    \n",
    "    # Find the cutoff index\n",
    "    cutoff_index = torch.searchsorted(cumulative_probs, torch.tensor(p, device=device)).item() + 1\n",
    "    # Select the top probabilities\n",
    "    top_probs = sorted_probs[:cutoff_index]\n",
    "    top_indices = sorted_indices[:cutoff_index]    \n",
    "    # Normalize the selected top probabilities\n",
    "    top_probs = top_probs / torch.sum(top_probs)    \n",
    "    # Sample from the selected top probabilities\n",
    "    sampled_index = torch.multinomial(top_probs, 1).item()    \n",
    "    return top_indices[sampled_index].item()"
   ]
  },
  {
   "cell_type": "code",
   "execution_count": 127,
   "metadata": {},
   "outputs": [
    {
     "name": "stdout",
     "output_type": "stream",
     "text": [
      "Temperature scaling, with random prompt\n",
      "----------------------------------------------------------------------------------------------------\n",
      "Prompt: \"A\"\n",
      "----------------------------------------------------------------------------------------------------\n",
      "Alice could think of a sears of conversation. While she\n",
      "was speaking to first, and went on, 'End what to sigh to be a grin,\n",
      "     And up a draw in the conversation of CHATTHIG.' The Queen turned round her head.\n",
      "\n",
      "'The others was to a minute or two, and mading at Alice to the staid of the game,' said the Caterpillar.\n",
      "\n",
      "'Well, I've tried the same size to have been will be\n",
      "off much frightened to my serpent, and manage at the world be seen as the right size to work with the world what I should like to see a beginning,' Alice couting that it was very like the creatures of his\n",
      "heldies.\n",
      "\n",
      "'What I eat was you find heree you delistanted its\n",
      "arms feeling at the other question, she went back to the garden, and her head mournfully. 'It's beautiful Soup? won't be painting them,\n",
      "and the next minutes it was so long about again.\n",
      "\n",
      "The passien game on the\n",
      "leaves, they don't remember ever having made out that!' cried the Hatter: 'till you may you can fun that it would be says in the top of its works!' And Ali\n",
      "Done.\n"
     ]
    }
   ],
   "source": [
    "def generate_from_text(temperature=None, p = None, prompt=None):\n",
    "    if prompt is None:\n",
    "        start = np.random.randint(0, len(raw_text)-seq_length)\n",
    "        text_prompt = raw_text[start:start+seq_length]\n",
    "        pattern = [char_to_int[c] for c in text_prompt]\n",
    "        print('Prompt: \"%s\"' % text_prompt)\n",
    "    else:\n",
    "        pattern = [char_to_int[c] for c in prompt]\n",
    "        print('Prompt: \"%s\"' % prompt)\n",
    "    model.eval()\n",
    "    print('-'*100)\n",
    "    generated_text = \"\"\n",
    "    if prompt is not None:\n",
    "        print(prompt, end=\"\")\n",
    "    with torch.no_grad():\n",
    "        for i in range(1000):\n",
    "            x = np.reshape(pattern, (1, len(pattern)))\n",
    "            # x = torch.tensor(x, dtype=torch.float32)\n",
    "            x = torch.tensor(x, dtype=torch.long)\n",
    "            logits = model(x.to(device))\n",
    "            if temperature is not None:\n",
    "                scaled_probs = apply_temperature_scaling(logits, temperature)\n",
    "                if p is not None:                \n",
    "                    scaled_probs = scaled_probs.squeeze()\n",
    "                    index = nucleus_sampling(scaled_probs, p, device)\n",
    "                else:\n",
    "                    index = torch.multinomial(scaled_probs, 1).item()\n",
    "            else:\n",
    "                index = int(logits.argmax())\n",
    "            result = int_to_char[index]\n",
    "            generated_text += result\n",
    "            print(result, end=\"\")\n",
    "            pattern.append(index)\n",
    "            if len(pattern) > seq_length:\n",
    "                pattern = pattern[1:]\n",
    "    print()\n",
    "    print(\"Done.\")\n",
    "    return generated_text\n",
    "\n",
    "print(\"Temperature scaling, with random prompt\")\n",
    "print('-' * 100)\n",
    "generated_text = generate_from_text(temperature=0.9,p = 0.9 , prompt='A')\n",
    "# generated_text = generate_from_text(temperature=0.9 , prompt='A')\n",
    "# generated_text = generate_from_text(temperature=0.9)\n",
    "# generated_text = generate_from_text()\n",
    "\n"
   ]
  },
  {
   "cell_type": "markdown",
   "metadata": {},
   "source": [
    "## Text Generation"
   ]
  },
  {
   "cell_type": "code",
   "execution_count": 545,
   "metadata": {},
   "outputs": [],
   "source": [
    "from nltk.translate.bleu_score import sentence_bleu, SmoothingFunction\n",
    "\n",
    "def calculate_bleu_score(generated_text, reference_text):\n",
    "    reference = [reference_text.split()]\n",
    "    candidate = generated_text.split()\n",
    "\n",
    "    smoothie = SmoothingFunction().method4\n",
    "    bleu_score = sentence_bleu(reference, candidate, smoothing_function=smoothie)\n",
    "    return bleu_score"
   ]
  },
  {
   "cell_type": "code",
   "execution_count": 546,
   "metadata": {},
   "outputs": [
    {
     "name": "stdout",
     "output_type": "stream",
     "text": [
      "BLEU Score: 0.011734159839341842\n"
     ]
    }
   ],
   "source": [
    "reference_text = raw_text[-1000:]  # Using the last 1000 characters of raw_text as the reference\n",
    "\n",
    "bleu_score = calculate_bleu_score(generated_text, reference_text)\n",
    "print(f\"BLEU Score: {bleu_score}\")"
   ]
  },
  {
   "cell_type": "code",
   "execution_count": 571,
   "metadata": {},
   "outputs": [
    {
     "name": "stdout",
     "output_type": "stream",
     "text": [
      "TTR: 0.6432160804020101\n"
     ]
    }
   ],
   "source": [
    "def calculate_ttr(text):\n",
    "    words = text.split()\n",
    "    unique_words = set(words)\n",
    "    ttr = len(unique_words) / len(words)\n",
    "    return ttr\n",
    "\n",
    "ttr = calculate_ttr(generated_text)\n",
    "print(f\"TTR: {ttr}\")"
   ]
  },
  {
   "cell_type": "code",
   "execution_count": 610,
   "metadata": {},
   "outputs": [
    {
     "name": "stdout",
     "output_type": "stream",
     "text": [
      "Perplexity: 183.6708526611328\n",
      "Perplexity: 50.75355911254883\n"
     ]
    },
    {
     "ename": "",
     "evalue": "",
     "output_type": "error",
     "traceback": [
      "\u001b[1;31mThe Kernel crashed while executing code in the current cell or a previous cell. \n",
      "\u001b[1;31mPlease review the code in the cell(s) to identify a possible cause of the failure. \n",
      "\u001b[1;31mClick <a href='https://aka.ms/vscodeJupyterKernelCrash'>here</a> for more info. \n",
      "\u001b[1;31mView Jupyter <a href='command:jupyter.viewOutput'>log</a> for further details."
     ]
    }
   ],
   "source": [
    "from transformers import GPT2LMHeadModel, GPT2Tokenizer\n",
    "\n",
    "def calculate_perplexity(text, model, tokenizer, device):\n",
    "    encodings = tokenizer(text, return_tensors='pt')\n",
    "    max_length = model.config.n_positions\n",
    "    stride = 512\n",
    "\n",
    "    lls = []\n",
    "    for i in range(0, encodings.input_ids.size(1), stride):\n",
    "        begin_loc = max(i + stride - max_length, 0)\n",
    "        end_loc = min(i + stride, encodings.input_ids.size(1))\n",
    "        trg_len = end_loc - i\n",
    "        input_ids = encodings.input_ids[:, begin_loc:end_loc].to(device)\n",
    "        target_ids = input_ids.clone().to(device)\n",
    "        target_ids[:, :-trg_len] = -100\n",
    "\n",
    "        with torch.no_grad():\n",
    "            outputs = model(input_ids, labels=target_ids)\n",
    "            log_likelihood = outputs.loss * trg_len\n",
    "\n",
    "        lls.append(log_likelihood)\n",
    "\n",
    "    ppl = torch.exp(torch.stack(lls).sum() / end_loc)\n",
    "    return ppl.item()\n",
    "\n",
    "# Reference text for BLEU score calculation\n",
    "reference_text = raw_text[-1000:]\n",
    "\n",
    "\n",
    "tokenizer = GPT2Tokenizer.from_pretrained(\"gpt2\")\n",
    "gpt2_model = GPT2LMHeadModel.from_pretrained(\"gpt2\").to(device)\n",
    "perplexity = calculate_perplexity(generated_text, gpt2_model, tokenizer, device)\n",
    "print(f\"Perplexity: {perplexity}\")\n",
    "\n",
    "perplexity = calculate_perplexity(reference_text, gpt2_model, tokenizer, device)\n",
    "print(f\"Perplexity: {perplexity}\")\n"
   ]
  }
 ],
 "metadata": {
  "kernelspec": {
   "display_name": "cloudspace",
   "language": "python",
   "name": "python3"
  },
  "language_info": {
   "codemirror_mode": {
    "name": "ipython",
    "version": 3
   },
   "file_extension": ".py",
   "mimetype": "text/x-python",
   "name": "python",
   "nbconvert_exporter": "python",
   "pygments_lexer": "ipython3",
   "version": "3.10.12"
  }
 },
 "nbformat": 4,
 "nbformat_minor": 2
}
